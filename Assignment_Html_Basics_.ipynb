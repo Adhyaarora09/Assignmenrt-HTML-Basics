{
  "nbformat": 4,
  "nbformat_minor": 0,
  "metadata": {
    "colab": {
      "provenance": []
    },
    "kernelspec": {
      "name": "python3",
      "display_name": "Python 3"
    },
    "language_info": {
      "name": "python"
    }
  },
  "cells": [
    {
      "cell_type": "code",
      "execution_count": 1,
      "metadata": {
        "id": "ok060KlHU7b3"
      },
      "outputs": [],
      "source": [
        "from IPython.display import HTML"
      ]
    },
    {
      "cell_type": "markdown",
      "metadata": {
        "id": "c16b35ea"
      },
      "source": [
        "               Assignment - HTML Basics\n",
        "\n",
        "1Que: Explain the basic structure of an HTML page. Why is it important to follow\n",
        "this structure?\n",
        "\n",
        "Ans:\n",
        "The basic structure of an HTML page consists of the following key elements:\n",
        "\n",
        "1.  **`<!DOCTYPE html>`**: This declaration defines the document type and version of HTML being used (in this case, HTML5). It helps the browser render the page correctly.\n",
        "2.  **`<html>`**: This is the root element of an HTML page. It encloses all other elements on the page.\n",
        "3.  **`<head>`**: This section contains meta-information about the HTML document, such as the title of the page (displayed in the browser tab), links to stylesheets (CSS), and scripts (JavaScript). This information is not directly visible to the user on the page itself.\n",
        "4.  **`<title>`**: This element, located within the `<head>`, sets the title of the HTML page.\n",
        "5.  **`<body>`**: This section contains the visible content of the HTML page, such as text, images, links, and other elements that the user sees in the browser window.\n",
        "\n",
        "**Why is it important to follow this structure?**\n",
        "\n",
        "Following this basic structure is crucial for several reasons:\n",
        "\n",
        "*   **Browser Rendering:** It helps web browsers correctly interpret and render the HTML document, ensuring that your page is displayed as intended across different browsers and devices.\n",
        "*   **Search Engine Optimization (SEO):** Search engines use the information in the `<head>` section (like the title and meta descriptions) to understand the content of your page, which can impact your website's ranking in search results.\n",
        "*   **Accessibility:** A well-structured HTML page is more accessible to users with disabilities who rely on assistive technologies like screen readers. The structure provides a logical order for the content, making it easier for these technologies to interpret and convey information.\n",
        "*   **Maintainability and Readability:** A consistent and organized structure makes your code easier to read, understand, and maintain, especially when working on larger projects or collaborating with other developers.\n",
        "*   **Validation:** Following the standard structure allows you to validate your HTML code against W3C standards, helping you identify and fix errors that could cause issues with rendering or accessibility.\n",
        "\n",
        "In summary, adhering to the basic HTML structure is essential for creating well-formed, accessible, and maintainable web pages that perform well and are correctly displayed by browsers.\n",
        "\n",
        "\n",
        "2Que: You’re building a small personal profile page. Which HTML tags will you\n",
        "use to highlight your name as a heading, describe yourself in a paragraph, and\n",
        "emphasize a key skill?\n",
        "\n",
        "Ans:"
      ]
    },
    {
      "cell_type": "markdown",
      "metadata": {
        "id": "d6ad81fa"
      },
      "source": [
        "               Assignment - HTML Basics\n",
        "\n",
        "1Que: Explain the basic structure of an HTML page. Why is it important to follow\n",
        "this structure?\n",
        "\n",
        "Ans:\n",
        "The basic structure of an HTML page consists of the following key elements:\n",
        "\n",
        "1.  **`<!DOCTYPE html>`**: This declaration defines the document type and version of HTML being used (in this case, HTML5). It helps the browser render the page correctly.\n",
        "2.  **`<html>`**: This is the root element of an HTML page. It encloses all other elements on the page.\n",
        "3.  **`<head>`**: This section contains meta-information about the HTML document, such as the title of the page (displayed in the browser tab), links to stylesheets (CSS), and scripts (JavaScript). This information is not directly visible to the user on the page itself.\n",
        "4.  **`<title>`**: This element, located within the `<head>`, sets the title of the HTML page.\n",
        "5.  **`<body>`**: This section contains the visible content of the HTML page, such as text, images, links, and other elements that the user sees in the browser window.\n",
        "\n",
        "**Why is it important to follow this structure?**\n",
        "\n",
        "Following this basic structure is crucial for several reasons:\n",
        "\n",
        "*   **Browser Rendering:** It helps web browsers correctly interpret and render the HTML document, ensuring that your page is displayed as intended across different browsers and devices.\n",
        "*   **Search Engine Optimization (SEO):** Search engines use the information in the `<head>` section (like the title and meta descriptions) to understand the content of your page, which can impact your website's ranking in search results.\n",
        "*   **Accessibility:** A well-structured HTML page is more accessible to users with disabilities who rely on assistive technologies like screen readers. The structure provides a logical order for the content, making it easier for these technologies to interpret and convey information.\n",
        "*   **Maintainability and Readability:** A consistent and organized structure makes your code easier to read, understand, and maintain, especially when working on larger projects or collaborating with other developers.\n",
        "*   **Validation:** Following the standard structure allows you to validate your HTML code against W3C standards, helping you identify and fix errors that could cause issues with rendering or accessibility.\n",
        "\n",
        "In summary, adhering to the basic HTML structure is essential for creating well-formed, accessible, and maintainable web pages that perform well and are correctly displayed by browsers.\n",
        "\n",
        "2Que: You’re building a small personal profile page. Which HTML tags will you\n",
        "use to highlight your name as a heading, describe yourself in a paragraph, and\n",
        "emphasize a key skill?\n",
        "\n",
        "Ans:\n",
        "To build a small personal profile page and highlight your name as a heading, describe yourself in a paragraph, and emphasize a key skill, you would use the following HTML tags:\n",
        "\n",
        "*   **`<h1>` to `<h6>`**: These are heading tags. You would typically use `<h1>` for the main heading, which in this case would be your name. The numbers indicate different levels of headings, with `<h1>` being the largest and most important.\n",
        "*   **`<p>`**: This is the paragraph tag. You would use this tag to enclose the text describing yourself.\n",
        "*   **`<strong>` or `<em>`**: These tags are used for emphasizing text.\n",
        "    *   **`<strong>`**: This tag is used to indicate that the enclosed text is of strong importance or is serious. It is typically displayed in bold by browsers.\n",
        "    *   **`<em>`**: This tag is used to indicate that the enclosed text has emphasized stress. It is typically displayed in italics by browsers.\n",
        "\n",
        "3Que: Look at the code below. Can you find and fix the mistake?\n",
        "<!- This is an HTML comment\n",
        "<h1>Welcome to my website</h1>\n",
        "\n",
        "Ans: There is an example of how to correct the comment:"
      ]
    },
    {
      "cell_type": "code",
      "source": [
        "%%html\n",
        "<html>\n",
        "  <!-- this ia an html comment -->\n",
        "  <h1> Welcome to my website </h1>\n",
        "  </html>"
      ],
      "metadata": {
        "colab": {
          "base_uri": "https://localhost:8080/",
          "height": 74
        },
        "id": "Uki2WcyVXN4G",
        "outputId": "72428169-dad7-4113-aa5e-80d453c799c9"
      },
      "execution_count": 3,
      "outputs": [
        {
          "output_type": "display_data",
          "data": {
            "text/plain": [
              "<IPython.core.display.HTML object>"
            ],
            "text/html": [
              "<html>\n",
              "  <!-- this ia an html comment --> \n",
              "  <h1> Welcome to my website </h1>\n",
              "  </html>\n"
            ]
          },
          "metadata": {}
        }
      ]
    },
    {
      "cell_type": "markdown",
      "source": [
        "4Que: You’re creating a form that asks the user to enter their name, select their\n",
        "country from a list, and click a button to submit. Write the HTML code for this.\n",
        "\n",
        "Ans:"
      ],
      "metadata": {
        "id": "nGVlknfzYBXl"
      }
    },
    {
      "cell_type": "code",
      "source": [
        "%%html\n",
        "<html>\n",
        "<form>\n",
        "  <label for=\"name\">Name:</label><br>\n",
        "  <input type=\"text\" id=\"name\" name=\"name\"><br><br>\n",
        "\n",
        "  <label for=\"country\">Country:</label><br>\n",
        "  <select id=\"country\" name=\"country\">\n",
        "    <option value=\"usa\">USA</option>\n",
        "    <option value=\"canada\">Canada</option>\n",
        "    <option value=\"uk\">UK</option>\n",
        "    <option value=\"australia\">Australia</option>\n",
        "  </select><br><br>\n",
        "\n",
        "  <input type=\"submit\" value=\"Submit\">\n",
        "</form>\n",
        "</html>"
      ],
      "metadata": {
        "colab": {
          "base_uri": "https://localhost:8080/",
          "height": 143
        },
        "id": "-pD8Y_UCYKhJ",
        "outputId": "22ca7c23-fe34-4d44-c2e9-c6d2d016b536"
      },
      "execution_count": 5,
      "outputs": [
        {
          "output_type": "display_data",
          "data": {
            "text/plain": [
              "<IPython.core.display.HTML object>"
            ],
            "text/html": [
              "<html>\n",
              "<form>\n",
              "  <label for=\"name\">Name:</label><br>\n",
              "  <input type=\"text\" id=\"name\" name=\"name\"><br><br>\n",
              "\n",
              "  <label for=\"country\">Country:</label><br>\n",
              "  <select id=\"country\" name=\"country\">\n",
              "    <option value=\"usa\">USA</option>\n",
              "    <option value=\"canada\">Canada</option>\n",
              "    <option value=\"uk\">UK</option>\n",
              "    <option value=\"australia\">Australia</option>\n",
              "  </select><br><br>\n",
              "\n",
              "  <input type=\"submit\" value=\"Submit\">\n",
              "</form>\n",
              "</html>\n"
            ]
          },
          "metadata": {}
        }
      ]
    },
    {
      "cell_type": "markdown",
      "source": [
        "5Que: Write short HTML code to show your favorite fruits in a bulleted list and\n",
        "your top 3 programming languages in a numbered list.\n",
        "\n",
        "Ans:"
      ],
      "metadata": {
        "id": "OPC-IsJ1YiWI"
      }
    },
    {
      "cell_type": "code",
      "source": [
        "%%html\n",
        "<html>\n",
        "<h2>Favorite Fruits</h2>\n",
        "<ul>\n",
        "  <li>Apple</li>\n",
        "  <li>Banana</li>\n",
        "  <li>Orange</li>\n",
        "</ul>\n",
        "\n",
        "<h2>Top 3 Programming Languages</h2>\n",
        "<ol>\n",
        "  <li>Python</li>\n",
        "  <li>JavaScript</li>\n",
        "  <li>Java</li>\n",
        "</ol>\n",
        "</html>"
      ],
      "metadata": {
        "colab": {
          "base_uri": "https://localhost:8080/",
          "height": 242
        },
        "id": "I-ceZkhIYuPJ",
        "outputId": "91ae7634-2676-4698-bc4f-ad7df2f67458"
      },
      "execution_count": 6,
      "outputs": [
        {
          "output_type": "display_data",
          "data": {
            "text/plain": [
              "<IPython.core.display.HTML object>"
            ],
            "text/html": [
              "<html>\n",
              "<h2>Favorite Fruits</h2>\n",
              "<ul>\n",
              "  <li>Apple</li>\n",
              "  <li>Banana</li>\n",
              "  <li>Orange</li>\n",
              "</ul>\n",
              "\n",
              "<h2>Top 3 Programming Languages</h2>\n",
              "<ol>\n",
              "  <li>Python</li>\n",
              "  <li>JavaScript</li>\n",
              "  <li>Java</li>\n",
              "</ol>\n",
              "</html>\n"
            ]
          },
          "metadata": {}
        }
      ]
    },
    {
      "cell_type": "markdown",
      "metadata": {
        "id": "08dd5168"
      },
      "source": [
        "6Que: Ravi wants to leave a note in his HTML file so that only other developers\n",
        "can see it, not the users on the website. How should he do this? Why are such notes\n",
        "useful?\n",
        "\n",
        "Ans:\n",
        "Ravi should use HTML comments to leave notes in his HTML file that are only visible to other developers and not to users on the website. HTML comments are enclosed within `<!--` and `-->` tags.\n",
        "\n"
      ]
    },
    {
      "cell_type": "markdown",
      "source": [
        "7Que: Here’s a form snippet. Can you spot the error and rewrite the correct\n",
        "version?\n",
        "\n",
        "<form>\n",
        " <input name=\"email\">\n",
        " <select>\n",
        " <option>India</option>\n",
        " </select>\n",
        " <button>Send</buton>\n",
        "</form>"
      ],
      "metadata": {
        "id": "ARVf5ckzZSns"
      }
    },
    {
      "cell_type": "code",
      "source": [
        "%%html\n",
        "<html>\n",
        "<form>\n",
        " <input name=\"email\">\n",
        " <select>\n",
        " <option>India</option>\n",
        " </select>\n",
        " <button>Send</button>\n",
        "</form>\n",
        "</html>"
      ],
      "metadata": {
        "colab": {
          "base_uri": "https://localhost:8080/",
          "height": 38
        },
        "id": "mlZdXMKUZpNd",
        "outputId": "0c687843-8856-4f91-bd53-b9e62d7cd196"
      },
      "execution_count": 8,
      "outputs": [
        {
          "output_type": "display_data",
          "data": {
            "text/plain": [
              "<IPython.core.display.HTML object>"
            ],
            "text/html": [
              "<html>\n",
              "<form>\n",
              " <input name=\"email\">\n",
              " <select>\n",
              " <option>India</option>\n",
              " </select>\n",
              " <button>Send</button>\n",
              "</form>\n",
              "</html>\n"
            ]
          },
          "metadata": {}
        }
      ]
    }
  ]
}